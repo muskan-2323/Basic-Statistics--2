{
  "nbformat": 4,
  "nbformat_minor": 0,
  "metadata": {
    "colab": {
      "provenance": []
    },
    "kernelspec": {
      "name": "python3",
      "display_name": "Python 3"
    },
    "language_info": {
      "name": "python"
    }
  },
  "cells": [
    {
      "cell_type": "markdown",
      "source": [
        "a. Building a 99% Confidence Interval Using Sample Standard Deviation:"
      ],
      "metadata": {
        "id": "JaYVfnZrNuky"
      }
    },
    {
      "cell_type": "markdown",
      "source": [
        "To construct a confidence interval using the sample standard deviation, we follow these steps:"
      ],
      "metadata": {
        "id": "XBQLOc9oP0IP"
      }
    },
    {
      "cell_type": "markdown",
      "source": [
        "1.Calculate the sample mean (𝑥ˉ) and sample standard deviation(s).\n"
      ],
      "metadata": {
        "id": "n9BqIHhEQLTF"
      }
    },
    {
      "cell_type": "markdown",
      "source": [
        "2.Determine the sample size (n)."
      ],
      "metadata": {
        "id": "KWZCqtiSRH3T"
      }
    },
    {
      "cell_type": "markdown",
      "source": [
        "3.Find the critical value from the t-distribution for a 99% confidence level and\n",
        "𝑛\n",
        "−\n",
        "1\n",
        "n−1 degrees of freedom (\n",
        "𝑑\n",
        "𝑓\n",
        "=\n",
        "𝑛\n",
        "−\n",
        "1\n",
        "df=n−1)."
      ],
      "metadata": {
        "id": "TKmKyTy2ROrP"
      }
    },
    {
      "cell_type": "markdown",
      "source": [
        "4.Calculate the margin of error (ME) using the formula:\n",
        "𝑀\n",
        "𝐸\n",
        "=\n",
        "𝑡\n",
        "𝛼\n",
        "/\n",
        "2\n",
        "×\n",
        "𝑠\n",
        "𝑛\n",
        "ME=t\n",
        "α/2\n",
        "​\n",
        " ×\n",
        "n\n",
        "​s\n",
        "​\n",
        " ."
      ],
      "metadata": {
        "id": "3U2WNyIDRVOl"
      }
    },
    {
      "cell_type": "markdown",
      "source": [
        "Construct the confidence interval:\n",
        "(\n",
        "𝑥\n",
        "ˉ\n",
        "−\n",
        "𝑀\n",
        "𝐸\n",
        ",\n",
        "𝑥\n",
        "ˉ\n",
        "+\n",
        "𝑀\n",
        "𝐸\n",
        ")\n",
        "(\n",
        "x\n",
        "ˉ\n",
        " −ME,\n",
        "x\n",
        "ˉ\n",
        " +ME)."
      ],
      "metadata": {
        "id": "2ebIB-ceRflO"
      }
    },
    {
      "cell_type": "code",
      "source": [
        "import numpy as np\n",
        "from scipy.stats import t\n",
        "\n",
        "# Sample data\n",
        "durability = np.array([1.13, 1.55, 1.43, 0.92, 1.25, 1.36, 1.32, 0.85, 1.07, 1.48, 1.20, 1.33, 1.18, 1.22, 1.29])\n",
        "\n",
        "# Sample statistics\n",
        "sample_mean = np.mean(durability)\n",
        "sample_std = np.std(durability, ddof=1)  # ddof=1 for sample standard deviation\n",
        "n = len(durability)\n",
        "\n",
        "# Calculate the t critical value\n",
        "alpha = 0.01  # 1 - Confidence level\n",
        "df = n - 1\n",
        "t_critical = t.ppf(1 - alpha/2, df)\n",
        "\n",
        "# Calculate margin of error\n",
        "margin_of_error = t_critical * (sample_std / np.sqrt(n))\n",
        "\n",
        "# Construct confidence interval\n",
        "confidence_interval = (sample_mean - margin_of_error, sample_mean + margin_of_error)\n",
        "\n",
        "print(\"99% Confidence Interval using Sample Standard Deviation:\")\n",
        "print(\"Sample Mean:\", sample_mean)\n",
        "print(\"Margin of Error:\", margin_of_error)\n",
        "print(\"Confidence Interval:\", confidence_interval)"
      ],
      "metadata": {
        "colab": {
          "base_uri": "https://localhost:8080/"
        },
        "id": "5aRVRiA1SG2u",
        "outputId": "6ec7f66d-d502-4bd7-d102-113aa78b2ffe"
      },
      "execution_count": 1,
      "outputs": [
        {
          "output_type": "stream",
          "name": "stdout",
          "text": [
            "99% Confidence Interval using Sample Standard Deviation:\n",
            "Sample Mean: 1.2386666666666666\n",
            "Margin of Error: 0.1484693282152996\n",
            "Confidence Interval: (1.090197338451367, 1.3871359948819662)\n"
          ]
        }
      ]
    },
    {
      "cell_type": "markdown",
      "source": [
        "b. Building a 99% Confidence Interval Using Known Population Standard Deviation:\n",
        "\n",
        "Since the population standard deviation is known, we can use the z-distribution instead of the t-distribution. The steps are similar to those in part a, but we use the z-score instead of the t-score.\n",
        "\n"
      ],
      "metadata": {
        "id": "dih0gNkJSZan"
      }
    },
    {
      "cell_type": "code",
      "source": [
        "# Known population standard deviation\n",
        "population_std = 0.2\n",
        "\n",
        "# Calculate margin of error\n",
        "margin_of_error_known_std = (t.ppf(1 - alpha/2, df)) * (population_std / np.sqrt(n))\n",
        "\n",
        "# Construct confidence interval\n",
        "confidence_interval_known_std = (sample_mean - margin_of_error_known_std, sample_mean + margin_of_error_known_std)\n",
        "\n",
        "print(\"\\n99% Confidence Interval using Known Population Standard Deviation:\")\n",
        "print(\"Sample Mean:\", sample_mean)\n",
        "print(\"Margin of Error:\", margin_of_error_known_std)\n",
        "print(\"Confidence Interval:\", confidence_interval_known_std)"
      ],
      "metadata": {
        "colab": {
          "base_uri": "https://localhost:8080/"
        },
        "id": "FV9E236NSdvQ",
        "outputId": "a753e1f4-19ff-4968-ce87-80f83d72f3cd"
      },
      "execution_count": 3,
      "outputs": [
        {
          "output_type": "stream",
          "name": "stdout",
          "text": [
            "\n",
            "99% Confidence Interval using Known Population Standard Deviation:\n",
            "Sample Mean: 1.2386666666666666\n",
            "Margin of Error: 0.15372349777995847\n",
            "Confidence Interval: (1.0849431688867082, 1.392390164446625)\n"
          ]
        }
      ]
    }
  ]
}